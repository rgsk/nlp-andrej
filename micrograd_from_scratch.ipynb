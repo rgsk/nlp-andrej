{
 "cells": [
  {
   "cell_type": "code",
   "execution_count": 1,
   "metadata": {},
   "outputs": [],
   "source": [
    "import math\n",
    "import numpy as np\n",
    "import matplotlib.pyplot as plt\n",
    "%matplotlib inline"
   ]
  },
  {
   "cell_type": "code",
   "execution_count": 2,
   "metadata": {},
   "outputs": [],
   "source": [
    "def f(x):\n",
    "    return 3 * x**2 - 4*x + 5"
   ]
  },
  {
   "cell_type": "code",
   "execution_count": 3,
   "metadata": {},
   "outputs": [
    {
     "data": {
      "text/plain": [
       "20.0"
      ]
     },
     "execution_count": 3,
     "metadata": {},
     "output_type": "execute_result"
    }
   ],
   "source": [
    "f(3.0)"
   ]
  },
  {
   "cell_type": "code",
   "execution_count": 4,
   "metadata": {},
   "outputs": [
    {
     "data": {
      "text/plain": [
       "array([-5.  , -4.75, -4.5 , -4.25, -4.  , -3.75, -3.5 , -3.25, -3.  ,\n",
       "       -2.75, -2.5 , -2.25, -2.  , -1.75, -1.5 , -1.25, -1.  , -0.75,\n",
       "       -0.5 , -0.25,  0.  ,  0.25,  0.5 ,  0.75,  1.  ,  1.25,  1.5 ,\n",
       "        1.75,  2.  ,  2.25,  2.5 ,  2.75,  3.  ,  3.25,  3.5 ,  3.75,\n",
       "        4.  ,  4.25,  4.5 ,  4.75])"
      ]
     },
     "execution_count": 4,
     "metadata": {},
     "output_type": "execute_result"
    }
   ],
   "source": [
    "xs = np.arange(-5, 5, .25)\n",
    "xs"
   ]
  },
  {
   "cell_type": "code",
   "execution_count": 5,
   "metadata": {},
   "outputs": [
    {
     "data": {
      "text/plain": [
       "array([100.    ,  91.6875,  83.75  ,  76.1875,  69.    ,  62.1875,\n",
       "        55.75  ,  49.6875,  44.    ,  38.6875,  33.75  ,  29.1875,\n",
       "        25.    ,  21.1875,  17.75  ,  14.6875,  12.    ,   9.6875,\n",
       "         7.75  ,   6.1875,   5.    ,   4.1875,   3.75  ,   3.6875,\n",
       "         4.    ,   4.6875,   5.75  ,   7.1875,   9.    ,  11.1875,\n",
       "        13.75  ,  16.6875,  20.    ,  23.6875,  27.75  ,  32.1875,\n",
       "        37.    ,  42.1875,  47.75  ,  53.6875])"
      ]
     },
     "execution_count": 5,
     "metadata": {},
     "output_type": "execute_result"
    }
   ],
   "source": [
    "ys = f(xs)\n",
    "ys"
   ]
  },
  {
   "cell_type": "code",
   "execution_count": 6,
   "metadata": {},
   "outputs": [
    {
     "data": {
      "text/plain": [
       "[<matplotlib.lines.Line2D at 0x146ef7c10>]"
      ]
     },
     "execution_count": 6,
     "metadata": {},
     "output_type": "execute_result"
    },
    {
     "data": {
      "image/png": "[encoded data removed]",
      "text/plain": [
       "<Figure size 640x480 with 1 Axes>"
      ]
     },
     "metadata": {},
     "output_type": "display_data"
    }
   ],
   "source": [
    "plt.plot(xs, ys)"
   ]
  },
  {
   "cell_type": "code",
   "execution_count": 7,
   "metadata": {},
   "outputs": [
    {
     "name": "stdout",
     "output_type": "stream",
     "text": [
      "20.0\n",
      "20.000000000000142\n",
      "14.210854715202004\n"
     ]
    }
   ],
   "source": [
    "h = 0.00000000000001\n",
    "x = 3.0 \n",
    "print(f(x))\n",
    "print(f(x + h))\n",
    "print((f(x + h) - f(x))/h)"
   ]
  },
  {
   "cell_type": "code",
   "execution_count": 8,
   "metadata": {},
   "outputs": [
    {
     "name": "stdout",
     "output_type": "stream",
     "text": [
      "1.9539925233402755\n"
     ]
    }
   ],
   "source": [
    "x = 1.0\n",
    "print((f(x + h) - f(x))/h)"
   ]
  },
  {
   "cell_type": "code",
   "execution_count": 9,
   "metadata": {},
   "outputs": [
    {
     "name": "stdout",
     "output_type": "stream",
     "text": [
      "-22.737367544323206\n"
     ]
    }
   ],
   "source": [
    "x = -3\n",
    "print((f(x + h) - f(x))/h)"
   ]
  },
  {
   "cell_type": "code",
   "execution_count": 10,
   "metadata": {},
   "outputs": [
    {
     "name": "stdout",
     "output_type": "stream",
     "text": [
      "0.0\n"
     ]
    }
   ],
   "source": [
    "x = 2/3\n",
    "print((f(x + h) - f(x))/h)"
   ]
  },
  {
   "cell_type": "code",
   "execution_count": 11,
   "metadata": {},
   "outputs": [
    {
     "name": "stdout",
     "output_type": "stream",
     "text": [
      "4.0\n"
     ]
    }
   ],
   "source": [
    "# lets get more complex\n",
    "\n",
    "a = 2.0\n",
    "b = -3.0\n",
    "c = 10.0\n",
    "d = a * b + c\n",
    "print(d)\n"
   ]
  },
  {
   "cell_type": "code",
   "execution_count": 12,
   "metadata": {},
   "outputs": [
    {
     "name": "stdout",
     "output_type": "stream",
     "text": [
      "d1 4.0\n",
      "d2 3.99999999999997\n",
      "slope -3.019806626980426\n"
     ]
    }
   ],
   "source": [
    "h = 0.00000000000001\n",
    "\n",
    "# inputs\n",
    "a = 2.0\n",
    "b = -3.0\n",
    "c = 10.0\n",
    "\n",
    "d1 = a * b + c\n",
    "d2 = (a + h) * b + c\n",
    "\n",
    "print('d1',d1)\n",
    "print('d2', d2)\n",
    "print('slope', (d2-d1)/h)\n"
   ]
  },
  {
   "cell_type": "code",
   "execution_count": 13,
   "metadata": {},
   "outputs": [
    {
     "name": "stdout",
     "output_type": "stream",
     "text": [
      "d1 4.0\n",
      "d2 4.00000000000002\n",
      "slope 2.042810365310288\n"
     ]
    }
   ],
   "source": [
    "d1 = a * b + c\n",
    "d2 = a * (b + h) + c\n",
    "\n",
    "print('d1',d1)\n",
    "print('d2', d2)\n",
    "print('slope', (d2-d1)/h)"
   ]
  },
  {
   "cell_type": "code",
   "execution_count": 14,
   "metadata": {},
   "outputs": [
    {
     "name": "stdout",
     "output_type": "stream",
     "text": [
      "d1 4.0\n",
      "d2 4.000000000000011\n",
      "slope 1.0658141036401503\n"
     ]
    }
   ],
   "source": [
    "d1 = a * b + c\n",
    "d2 = a * b + (c + h)\n",
    "\n",
    "print('d1',d1)\n",
    "print('d2', d2)\n",
    "print('slope', (d2-d1)/h)"
   ]
  },
  {
   "cell_type": "code",
   "execution_count": 15,
   "metadata": {},
   "outputs": [
    {
     "data": {
      "text/plain": [
       "Value(data=-8.0)"
      ]
     },
     "execution_count": 15,
     "metadata": {},
     "output_type": "execute_result"
    }
   ],
   "source": [
    "class Value:\n",
    "    def __init__(self, data, _children=(), _op='', label=\"\"):\n",
    "        self.data = data\n",
    "        self.grad = 0.0\n",
    "        self._prev = set(_children)\n",
    "        self._op = _op\n",
    "        self.label = label\n",
    "\n",
    "    def __repr__(self):\n",
    "        return f\"Value(data={self.data})\"\n",
    "\n",
    "    def __add__(self, other):\n",
    "        out = Value(self.data + other.data, (self, other), '+')\n",
    "        return out\n",
    "\n",
    "    def __mul__(self, other):\n",
    "        out = Value(self.data * other.data, (self, other), '*')\n",
    "        return out\n",
    "    \n",
    "\n",
    "\n",
    "a = Value(2.0, label=\"a\")\n",
    "b = Value(-3.0, label=\"b\")\n",
    "c = Value(10.0, label=\"c\")\n",
    "e = a * b; e.label = 'e'\n",
    "d = e + c; d.label = 'd'\n",
    "f = Value(-2.0, label='f')\n",
    "L = d * f; L.label = \"L\"\n",
    "L"
   ]
  },
  {
   "cell_type": "code",
   "execution_count": 16,
   "metadata": {},
   "outputs": [
    {
     "data": {
      "text/plain": [
       "{Value(data=-6.0), Value(data=10.0)}"
      ]
     },
     "execution_count": 16,
     "metadata": {},
     "output_type": "execute_result"
    }
   ],
   "source": [
    "d._prev"
   ]
  },
  {
   "cell_type": "code",
   "execution_count": 17,
   "metadata": {},
   "outputs": [
    {
     "data": {
      "text/plain": [
       "'+'"
      ]
     },
     "execution_count": 17,
     "metadata": {},
     "output_type": "execute_result"
    }
   ],
   "source": [
    "d._op"
   ]
  },
  {
   "cell_type": "code",
   "execution_count": 18,
   "metadata": {},
   "outputs": [
    {
     "name": "stdout",
     "output_type": "stream",
     "text": [
      "Requirement already satisfied: graphviz in /Users/rahulgupta/anaconda3/lib/python3.11/site-packages (0.20.1)\n",
      "Note: you may need to restart the kernel to use updated packages.\n"
     ]
    }
   ],
   "source": [
    "%pip install graphviz"
   ]
  },
  {
   "cell_type": "code",
   "execution_count": 19,
   "metadata": {},
   "outputs": [],
   "source": [
    "from graphviz import Digraph\n",
    "def trace(root):\n",
    "    # builds a set of all nodes and edges in a graph\n",
    "    nodes, edges = set(), set()\n",
    "    def build(v):\n",
    "        if v not in nodes:\n",
    "            nodes.add(v)\n",
    "            for child in v._prev:\n",
    "                edges.add((child, v))\n",
    "                build(child)\n",
    "    build(root)\n",
    "    return nodes, edges\n",
    "\n",
    "def draw_dot(root):\n",
    "    dot = Digraph(format='svg', graph_attr={'rankdir':'LR'}) # LR = left to right\n",
    "    nodes, edges = trace(root)\n",
    "    for n in nodes:\n",
    "        uid = str(id(n))\n",
    "        # for any value in the graph, create a rectangular ('record') node for it\n",
    "        dot.node(name=uid, label=\"{ %s | data %.4f | grad %.4f } \" % (n.label, n.data, n.grad), shape=\"record\")\n",
    "        # and connect this node to it\n",
    "        if n._op:\n",
    "            dot.node(name = uid + n._op, label=n._op)\n",
    "            dot.edge(uid + n._op, uid)\n",
    "    for n1, n2 in edges:\n",
    "        # connect n1 to the op node of n2\n",
    "        dot.edge(str(id(n1)), str(id(n2)) + n2._op)\n",
    "    return dot"
   ]
  },
  {
   "cell_type": "code",
   "execution_count": 20,
   "metadata": {},
   "outputs": [
    {
     "data": {
      "image/svg+xml": [
       "<?xml version=\"1.0\" encoding=\"UTF-8\" standalone=\"no\"?>\n",
       "<!DOCTYPE svg PUBLIC \"-//W3C//DTD SVG 1.1//EN\"\n",
       " \"http://www.w3.org/Graphics/SVG/1.1/DTD/svg11.dtd\">\n",
       "<!-- Generated by graphviz version 8.1.0 (20230707.0739)\n",
       " -->\n",
       "<!-- Pages: 1 -->\n",
       "<svg width=\"1140pt\" height=\"128pt\"\n",
       " viewBox=\"0.00 0.00 1139.75 128.00\" xmlns=\"http://www.w3.org/2000/svg\" xmlns:xlink=\"http://www.w3.org/1999/xlink\">\n",
       "<g id=\"graph0\" class=\"graph\" transform=\"scale(1 1) rotate(0) translate(4 124)\">\n",
       "<polygon fill=\"white\" stroke=\"none\" points=\"-4,4 -4,-124 1135.75,-124 1135.75,4 -4,4\"/>\n",
       "<!-- 5486571600 -->\n",
       "<g id=\"node1\" class=\"node\">\n",
       "<title>5486571600</title>\n",
       "<polygon fill=\"none\" stroke=\"black\" points=\"631.12,-27.5 631.12,-63.5 814.88,-63.5 814.88,-27.5 631.12,-27.5\"/>\n",
       "<text text-anchor=\"middle\" x=\"642.5\" y=\"-40.7\" font-family=\"Times,serif\" font-size=\"14.00\">d</text>\n",
       "<polyline fill=\"none\" stroke=\"black\" points=\"653.88,-28 653.88,-63.5\"/>\n",
       "<text text-anchor=\"middle\" x=\"693.75\" y=\"-40.7\" font-family=\"Times,serif\" font-size=\"14.00\">data 4.0000</text>\n",
       "<polyline fill=\"none\" stroke=\"black\" points=\"733.62,-28 733.62,-63.5\"/>\n",
       "<text text-anchor=\"middle\" x=\"774.25\" y=\"-40.7\" font-family=\"Times,serif\" font-size=\"14.00\">grad 0.0000</text>\n",
       "</g>\n",
       "<!-- 5485104336* -->\n",
       "<g id=\"node8\" class=\"node\">\n",
       "<title>5485104336*</title>\n",
       "<ellipse fill=\"none\" stroke=\"black\" cx=\"879\" cy=\"-72.5\" rx=\"27\" ry=\"18\"/>\n",
       "<text text-anchor=\"middle\" x=\"879\" y=\"-67.45\" font-family=\"Times,serif\" font-size=\"14.00\">*</text>\n",
       "</g>\n",
       "<!-- 5486571600&#45;&gt;5485104336* -->\n",
       "<g id=\"edge8\" class=\"edge\">\n",
       "<title>5486571600&#45;&gt;5485104336*</title>\n",
       "<path fill=\"none\" stroke=\"black\" d=\"M814.47,-61.36C824.02,-63.04 833.27,-64.66 841.63,-66.12\"/>\n",
       "<polygon fill=\"black\" stroke=\"black\" points=\"840.97,-69.74 851.42,-68.02 842.18,-62.84 840.97,-69.74\"/>\n",
       "</g>\n",
       "<!-- 5486571600+ -->\n",
       "<g id=\"node2\" class=\"node\">\n",
       "<title>5486571600+</title>\n",
       "<ellipse fill=\"none\" stroke=\"black\" cx=\"567\" cy=\"-45.5\" rx=\"27\" ry=\"18\"/>\n",
       "<text text-anchor=\"middle\" x=\"567\" y=\"-40.45\" font-family=\"Times,serif\" font-size=\"14.00\">+</text>\n",
       "</g>\n",
       "<!-- 5486571600+&#45;&gt;5486571600 -->\n",
       "<g id=\"edge1\" class=\"edge\">\n",
       "<title>5486571600+&#45;&gt;5486571600</title>\n",
       "<path fill=\"none\" stroke=\"black\" d=\"M594.47,-45.5C602.16,-45.5 611.05,-45.5 620.48,-45.5\"/>\n",
       "<polygon fill=\"black\" stroke=\"black\" points=\"620.33,-49 630.33,-45.5 620.33,-42 620.33,-49\"/>\n",
       "</g>\n",
       "<!-- 5486136528 -->\n",
       "<g id=\"node3\" class=\"node\">\n",
       "<title>5486136528</title>\n",
       "<polygon fill=\"none\" stroke=\"black\" points=\"315.38,-55.5 315.38,-91.5 502.88,-91.5 502.88,-55.5 315.38,-55.5\"/>\n",
       "<text text-anchor=\"middle\" x=\"326.38\" y=\"-68.7\" font-family=\"Times,serif\" font-size=\"14.00\">e</text>\n",
       "<polyline fill=\"none\" stroke=\"black\" points=\"337.38,-56 337.38,-91.5\"/>\n",
       "<text text-anchor=\"middle\" x=\"379.5\" y=\"-68.7\" font-family=\"Times,serif\" font-size=\"14.00\">data &#45;6.0000</text>\n",
       "<polyline fill=\"none\" stroke=\"black\" points=\"421.62,-56 421.62,-91.5\"/>\n",
       "<text text-anchor=\"middle\" x=\"462.25\" y=\"-68.7\" font-family=\"Times,serif\" font-size=\"14.00\">grad 0.0000</text>\n",
       "</g>\n",
       "<!-- 5486136528&#45;&gt;5486571600+ -->\n",
       "<g id=\"edge9\" class=\"edge\">\n",
       "<title>5486136528&#45;&gt;5486571600+</title>\n",
       "<path fill=\"none\" stroke=\"black\" d=\"M502.6,-56.89C512.15,-55.17 521.41,-53.51 529.76,-52.01\"/>\n",
       "<polygon fill=\"black\" stroke=\"black\" points=\"530.3,-55.29 539.52,-50.08 529.06,-48.4 530.3,-55.29\"/>\n",
       "</g>\n",
       "<!-- 5486136528* -->\n",
       "<g id=\"node4\" class=\"node\">\n",
       "<title>5486136528*</title>\n",
       "<ellipse fill=\"none\" stroke=\"black\" cx=\"251.25\" cy=\"-73.5\" rx=\"27\" ry=\"18\"/>\n",
       "<text text-anchor=\"middle\" x=\"251.25\" y=\"-68.45\" font-family=\"Times,serif\" font-size=\"14.00\">*</text>\n",
       "</g>\n",
       "<!-- 5486136528*&#45;&gt;5486136528 -->\n",
       "<g id=\"edge2\" class=\"edge\">\n",
       "<title>5486136528*&#45;&gt;5486136528</title>\n",
       "<path fill=\"none\" stroke=\"black\" d=\"M278.69,-73.5C286.39,-73.5 295.3,-73.5 304.78,-73.5\"/>\n",
       "<polygon fill=\"black\" stroke=\"black\" points=\"304.68,-77 314.68,-73.5 304.68,-70 304.68,-77\"/>\n",
       "</g>\n",
       "<!-- 5486571216 -->\n",
       "<g id=\"node5\" class=\"node\">\n",
       "<title>5486571216</title>\n",
       "<polygon fill=\"none\" stroke=\"black\" points=\"314.25,-0.5 314.25,-36.5 504,-36.5 504,-0.5 314.25,-0.5\"/>\n",
       "<text text-anchor=\"middle\" x=\"325.25\" y=\"-13.7\" font-family=\"Times,serif\" font-size=\"14.00\">c</text>\n",
       "<polyline fill=\"none\" stroke=\"black\" points=\"336.25,-1 336.25,-36.5\"/>\n",
       "<text text-anchor=\"middle\" x=\"379.5\" y=\"-13.7\" font-family=\"Times,serif\" font-size=\"14.00\">data 10.0000</text>\n",
       "<polyline fill=\"none\" stroke=\"black\" points=\"422.75,-1 422.75,-36.5\"/>\n",
       "<text text-anchor=\"middle\" x=\"463.38\" y=\"-13.7\" font-family=\"Times,serif\" font-size=\"14.00\">grad 0.0000</text>\n",
       "</g>\n",
       "<!-- 5486571216&#45;&gt;5486571600+ -->\n",
       "<g id=\"edge7\" class=\"edge\">\n",
       "<title>5486571216&#45;&gt;5486571600+</title>\n",
       "<path fill=\"none\" stroke=\"black\" d=\"M503.95,-34.75C513.06,-36.33 521.87,-37.86 529.86,-39.24\"/>\n",
       "<polygon fill=\"black\" stroke=\"black\" points=\"529.08,-42.83 539.53,-41.09 530.28,-35.93 529.08,-42.83\"/>\n",
       "</g>\n",
       "<!-- 5486571728 -->\n",
       "<g id=\"node6\" class=\"node\">\n",
       "<title>5486571728</title>\n",
       "<polygon fill=\"none\" stroke=\"black\" points=\"630,-82.5 630,-118.5 816,-118.5 816,-82.5 630,-82.5\"/>\n",
       "<text text-anchor=\"middle\" x=\"640.25\" y=\"-95.7\" font-family=\"Times,serif\" font-size=\"14.00\">f</text>\n",
       "<polyline fill=\"none\" stroke=\"black\" points=\"650.5,-83 650.5,-118.5\"/>\n",
       "<text text-anchor=\"middle\" x=\"692.62\" y=\"-95.7\" font-family=\"Times,serif\" font-size=\"14.00\">data &#45;2.0000</text>\n",
       "<polyline fill=\"none\" stroke=\"black\" points=\"734.75,-83 734.75,-118.5\"/>\n",
       "<text text-anchor=\"middle\" x=\"775.38\" y=\"-95.7\" font-family=\"Times,serif\" font-size=\"14.00\">grad 0.0000</text>\n",
       "</g>\n",
       "<!-- 5486571728&#45;&gt;5485104336* -->\n",
       "<g id=\"edge5\" class=\"edge\">\n",
       "<title>5486571728&#45;&gt;5485104336*</title>\n",
       "<path fill=\"none\" stroke=\"black\" d=\"M815.81,-83.81C824.91,-82.15 833.73,-80.55 841.73,-79.09\"/>\n",
       "<polygon fill=\"black\" stroke=\"black\" points=\"842.22,-82.38 851.43,-77.15 840.96,-75.49 842.22,-82.38\"/>\n",
       "</g>\n",
       "<!-- 5485104336 -->\n",
       "<g id=\"node7\" class=\"node\">\n",
       "<title>5485104336</title>\n",
       "<polygon fill=\"none\" stroke=\"black\" points=\"942,-54.5 942,-90.5 1131.75,-90.5 1131.75,-54.5 942,-54.5\"/>\n",
       "<text text-anchor=\"middle\" x=\"954.12\" y=\"-67.7\" font-family=\"Times,serif\" font-size=\"14.00\">L</text>\n",
       "<polyline fill=\"none\" stroke=\"black\" points=\"966.25,-55 966.25,-90.5\"/>\n",
       "<text text-anchor=\"middle\" x=\"1008.38\" y=\"-67.7\" font-family=\"Times,serif\" font-size=\"14.00\">data &#45;8.0000</text>\n",
       "<polyline fill=\"none\" stroke=\"black\" points=\"1050.5,-55 1050.5,-90.5\"/>\n",
       "<text text-anchor=\"middle\" x=\"1091.12\" y=\"-67.7\" font-family=\"Times,serif\" font-size=\"14.00\">grad 0.0000</text>\n",
       "</g>\n",
       "<!-- 5485104336*&#45;&gt;5485104336 -->\n",
       "<g id=\"edge3\" class=\"edge\">\n",
       "<title>5485104336*&#45;&gt;5485104336</title>\n",
       "<path fill=\"none\" stroke=\"black\" d=\"M906.44,-72.5C913.81,-72.5 922.29,-72.5 931.31,-72.5\"/>\n",
       "<polygon fill=\"black\" stroke=\"black\" points=\"931.11,-76 941.11,-72.5 931.11,-69 931.11,-76\"/>\n",
       "</g>\n",
       "<!-- 5486570192 -->\n",
       "<g id=\"node9\" class=\"node\">\n",
       "<title>5486570192</title>\n",
       "<polygon fill=\"none\" stroke=\"black\" points=\"2.62,-83.5 2.62,-119.5 185.62,-119.5 185.62,-83.5 2.62,-83.5\"/>\n",
       "<text text-anchor=\"middle\" x=\"13.62\" y=\"-96.7\" font-family=\"Times,serif\" font-size=\"14.00\">a</text>\n",
       "<polyline fill=\"none\" stroke=\"black\" points=\"24.62,-84 24.62,-119.5\"/>\n",
       "<text text-anchor=\"middle\" x=\"64.5\" y=\"-96.7\" font-family=\"Times,serif\" font-size=\"14.00\">data 2.0000</text>\n",
       "<polyline fill=\"none\" stroke=\"black\" points=\"104.38,-84 104.38,-119.5\"/>\n",
       "<text text-anchor=\"middle\" x=\"145\" y=\"-96.7\" font-family=\"Times,serif\" font-size=\"14.00\">grad 0.0000</text>\n",
       "</g>\n",
       "<!-- 5486570192&#45;&gt;5486136528* -->\n",
       "<g id=\"edge6\" class=\"edge\">\n",
       "<title>5486570192&#45;&gt;5486136528*</title>\n",
       "<path fill=\"none\" stroke=\"black\" d=\"M185.36,-85.21C195.48,-83.39 205.31,-81.61 214.13,-80.02\"/>\n",
       "<polygon fill=\"black\" stroke=\"black\" points=\"214.48,-83.33 223.7,-78.11 213.24,-76.44 214.48,-83.33\"/>\n",
       "</g>\n",
       "<!-- 5484596624 -->\n",
       "<g id=\"node10\" class=\"node\">\n",
       "<title>5484596624</title>\n",
       "<polygon fill=\"none\" stroke=\"black\" points=\"0,-28.5 0,-64.5 188.25,-64.5 188.25,-28.5 0,-28.5\"/>\n",
       "<text text-anchor=\"middle\" x=\"11.38\" y=\"-41.7\" font-family=\"Times,serif\" font-size=\"14.00\">b</text>\n",
       "<polyline fill=\"none\" stroke=\"black\" points=\"22.75,-29 22.75,-64.5\"/>\n",
       "<text text-anchor=\"middle\" x=\"64.88\" y=\"-41.7\" font-family=\"Times,serif\" font-size=\"14.00\">data &#45;3.0000</text>\n",
       "<polyline fill=\"none\" stroke=\"black\" points=\"107,-29 107,-64.5\"/>\n",
       "<text text-anchor=\"middle\" x=\"147.62\" y=\"-41.7\" font-family=\"Times,serif\" font-size=\"14.00\">grad 0.0000</text>\n",
       "</g>\n",
       "<!-- 5484596624&#45;&gt;5486136528* -->\n",
       "<g id=\"edge4\" class=\"edge\">\n",
       "<title>5484596624&#45;&gt;5486136528*</title>\n",
       "<path fill=\"none\" stroke=\"black\" d=\"M188.05,-62.67C197.17,-64.26 206,-65.8 214,-67.19\"/>\n",
       "<polygon fill=\"black\" stroke=\"black\" points=\"213.25,-70.79 223.7,-69.05 214.45,-63.89 213.25,-70.79\"/>\n",
       "</g>\n",
       "</g>\n",
       "</svg>\n"
      ],
      "text/plain": [
       "<graphviz.graphs.Digraph at 0x146fd4bd0>"
      ]
     },
     "execution_count": 20,
     "metadata": {},
     "output_type": "execute_result"
    }
   ],
   "source": [
    "draw_dot(L)"
   ]
  },
  {
   "cell_type": "code",
   "execution_count": 21,
   "metadata": {},
   "outputs": [
    {
     "name": "stdout",
     "output_type": "stream",
     "text": [
      "1.000000082740371\n"
     ]
    }
   ],
   "source": [
    "def lol():\n",
    "    h = 0.000000001\n",
    "\n",
    "\n",
    "    a = Value(2.0, label=\"a\")\n",
    "    b = Value(-3.0, label=\"b\")\n",
    "    c = Value(10.0, label=\"c\")\n",
    "    e = a * b; e.label = 'e'\n",
    "    d = e + c; d.label = 'd'\n",
    "    f = Value(-2.0, label='f')\n",
    "    L = d * f; L.label = \"L\"\n",
    "    L1 = L.data\n",
    "\n",
    "    a = Value(2.0, label=\"a\")\n",
    "    b = Value(-3.0, label=\"b\")\n",
    "    c = Value(10.0, label=\"c\")\n",
    "    e = a * b; e.label = 'e'\n",
    "    d = e + c; d.label = 'd'\n",
    "    f = Value(-2.0, label='f')\n",
    "    L = d * f; L.label = \"L\"\n",
    "    L2 = L.data + h\n",
    "\n",
    "    print((L2 - L1)/h)\n",
    "    \n",
    "lol()"
   ]
  },
  {
   "cell_type": "code",
   "execution_count": 22,
   "metadata": {},
   "outputs": [],
   "source": [
    "def get_grad(var):\n",
    "    h = 0.000000001\n",
    "\n",
    "    add_a = 0\n",
    "    add_b = 0\n",
    "    add_c = 0\n",
    "    add_d = 0\n",
    "    add_e = 0\n",
    "    add_f = 0\n",
    "    add_L = 0\n",
    "\n",
    "    if var == 'a':\n",
    "        add_a = h\n",
    "    elif var == 'b':\n",
    "        add_b = h\n",
    "    elif var == 'c':\n",
    "        add_c = h\n",
    "    elif var == 'd':\n",
    "        add_d = h\n",
    "    elif var == 'e':\n",
    "        add_e = h\n",
    "    elif var == 'f':\n",
    "        add_f = h\n",
    "    elif var == 'L':\n",
    "        add_L = h\n",
    "\n",
    "    a = Value(2.0, label=\"a\")\n",
    "    b = Value(-3.0, label=\"b\")\n",
    "    c = Value(10.0, label=\"c\")\n",
    "    e = a * b; e.label = 'e'\n",
    "    d = e + c; d.label = 'd'\n",
    "    f = Value(-2.0, label='f')\n",
    "    L = d * f; L.label = \"L\"\n",
    "    L1 = L.data\n",
    "\n",
    "    a = Value(2.0 + add_a, label=\"a\")\n",
    "    b = Value(-3.0 + add_b, label=\"b\")\n",
    "    c = Value(10.0 + add_c, label=\"c\")\n",
    "    e = a * b; e.label = 'e'\n",
    "    e.data += add_e\n",
    "    d = e + c; d.label = 'd'\n",
    "    d.data += add_d\n",
    "    f = Value(-2.0, label='f')\n",
    "    f.data += add_f\n",
    "    L = d * f; L.label = \"L\"\n",
    "    L.data += add_L\n",
    "    L2 = L.data\n",
    "\n",
    "    return (L2 - L1)/h"
   ]
  },
  {
   "cell_type": "code",
   "execution_count": 23,
   "metadata": {},
   "outputs": [
    {
     "name": "stdout",
     "output_type": "stream",
     "text": [
      "1.000000082740371\n"
     ]
    }
   ],
   "source": [
    "print(get_grad('L'))"
   ]
  },
  {
   "cell_type": "code",
   "execution_count": 24,
   "metadata": {},
   "outputs": [],
   "source": [
    "L.grad = get_grad('L')\n",
    "a.grad = get_grad('a')\n",
    "b.grad = get_grad('b')\n",
    "c.grad = get_grad('c')\n",
    "d.grad = get_grad('d')\n",
    "e.grad = get_grad('e')\n",
    "f.grad = get_grad('f')"
   ]
  },
  {
   "cell_type": "code",
   "execution_count": 25,
   "metadata": {},
   "outputs": [
    {
     "data": {
      "image/svg+xml": [
       "<?xml version=\"1.0\" encoding=\"UTF-8\" standalone=\"no\"?>\n",
       "<!DOCTYPE svg PUBLIC \"-//W3C//DTD SVG 1.1//EN\"\n",
       " \"http://www.w3.org/Graphics/SVG/1.1/DTD/svg11.dtd\">\n",
       "<!-- Generated by graphviz version 8.1.0 (20230707.0739)\n",
       " -->\n",
       "<!-- Pages: 1 -->\n",
       "<svg width=\"1151pt\" height=\"128pt\"\n",
       " viewBox=\"0.00 0.00 1151.00 128.00\" xmlns=\"http://www.w3.org/2000/svg\" xmlns:xlink=\"http://www.w3.org/1999/xlink\">\n",
       "<g id=\"graph0\" class=\"graph\" transform=\"scale(1 1) rotate(0) translate(4 124)\">\n",
       "<polygon fill=\"white\" stroke=\"none\" points=\"-4,4 -4,-124 1147,-124 1147,4 -4,4\"/>\n",
       "<!-- 5486571600 -->\n",
       "<g id=\"node1\" class=\"node\">\n",
       "<title>5486571600</title>\n",
       "<polygon fill=\"none\" stroke=\"black\" points=\"639,-27.5 639,-63.5 827.25,-63.5 827.25,-27.5 639,-27.5\"/>\n",
       "<text text-anchor=\"middle\" x=\"650.38\" y=\"-40.7\" font-family=\"Times,serif\" font-size=\"14.00\">d</text>\n",
       "<polyline fill=\"none\" stroke=\"black\" points=\"661.75,-28 661.75,-63.5\"/>\n",
       "<text text-anchor=\"middle\" x=\"701.62\" y=\"-40.7\" font-family=\"Times,serif\" font-size=\"14.00\">data 4.0000</text>\n",
       "<polyline fill=\"none\" stroke=\"black\" points=\"741.5,-28 741.5,-63.5\"/>\n",
       "<text text-anchor=\"middle\" x=\"784.38\" y=\"-40.7\" font-family=\"Times,serif\" font-size=\"14.00\">grad &#45;2.0000</text>\n",
       "</g>\n",
       "<!-- 5485104336* -->\n",
       "<g id=\"node8\" class=\"node\">\n",
       "<title>5485104336*</title>\n",
       "<ellipse fill=\"none\" stroke=\"black\" cx=\"890.25\" cy=\"-72.5\" rx=\"27\" ry=\"18\"/>\n",
       "<text text-anchor=\"middle\" x=\"890.25\" y=\"-67.45\" font-family=\"Times,serif\" font-size=\"14.00\">*</text>\n",
       "</g>\n",
       "<!-- 5486571600&#45;&gt;5485104336* -->\n",
       "<g id=\"edge8\" class=\"edge\">\n",
       "<title>5486571600&#45;&gt;5485104336*</title>\n",
       "<path fill=\"none\" stroke=\"black\" d=\"M827.05,-61.67C836.17,-63.26 845,-64.8 853,-66.19\"/>\n",
       "<polygon fill=\"black\" stroke=\"black\" points=\"852.25,-69.79 862.7,-68.05 853.45,-62.89 852.25,-69.79\"/>\n",
       "</g>\n",
       "<!-- 5486571600+ -->\n",
       "<g id=\"node2\" class=\"node\">\n",
       "<title>5486571600+</title>\n",
       "<ellipse fill=\"none\" stroke=\"black\" cx=\"576\" cy=\"-45.5\" rx=\"27\" ry=\"18\"/>\n",
       "<text text-anchor=\"middle\" x=\"576\" y=\"-40.45\" font-family=\"Times,serif\" font-size=\"14.00\">+</text>\n",
       "</g>\n",
       "<!-- 5486571600+&#45;&gt;5486571600 -->\n",
       "<g id=\"edge1\" class=\"edge\">\n",
       "<title>5486571600+&#45;&gt;5486571600</title>\n",
       "<path fill=\"none\" stroke=\"black\" d=\"M603.31,-45.5C610.71,-45.5 619.23,-45.5 628.29,-45.5\"/>\n",
       "<polygon fill=\"black\" stroke=\"black\" points=\"628.14,-49 638.14,-45.5 628.14,-42 628.14,-49\"/>\n",
       "</g>\n",
       "<!-- 5486136528 -->\n",
       "<g id=\"node3\" class=\"node\">\n",
       "<title>5486136528</title>\n",
       "<polygon fill=\"none\" stroke=\"black\" points=\"319.88,-55.5 319.88,-91.5 511.88,-91.5 511.88,-55.5 319.88,-55.5\"/>\n",
       "<text text-anchor=\"middle\" x=\"330.88\" y=\"-68.7\" font-family=\"Times,serif\" font-size=\"14.00\">e</text>\n",
       "<polyline fill=\"none\" stroke=\"black\" points=\"341.88,-56 341.88,-91.5\"/>\n",
       "<text text-anchor=\"middle\" x=\"384\" y=\"-68.7\" font-family=\"Times,serif\" font-size=\"14.00\">data &#45;6.0000</text>\n",
       "<polyline fill=\"none\" stroke=\"black\" points=\"426.12,-56 426.12,-91.5\"/>\n",
       "<text text-anchor=\"middle\" x=\"469\" y=\"-68.7\" font-family=\"Times,serif\" font-size=\"14.00\">grad &#45;2.0000</text>\n",
       "</g>\n",
       "<!-- 5486136528&#45;&gt;5486571600+ -->\n",
       "<g id=\"edge9\" class=\"edge\">\n",
       "<title>5486136528&#45;&gt;5486571600+</title>\n",
       "<path fill=\"none\" stroke=\"black\" d=\"M511.6,-56.73C521.18,-55.03 530.45,-53.39 538.8,-51.91\"/>\n",
       "<polygon fill=\"black\" stroke=\"black\" points=\"539.33,-55.19 548.57,-50 538.11,-48.3 539.33,-55.19\"/>\n",
       "</g>\n",
       "<!-- 5486136528* -->\n",
       "<g id=\"node4\" class=\"node\">\n",
       "<title>5486136528*</title>\n",
       "<ellipse fill=\"none\" stroke=\"black\" cx=\"255.75\" cy=\"-73.5\" rx=\"27\" ry=\"18\"/>\n",
       "<text text-anchor=\"middle\" x=\"255.75\" y=\"-68.45\" font-family=\"Times,serif\" font-size=\"14.00\">*</text>\n",
       "</g>\n",
       "<!-- 5486136528*&#45;&gt;5486136528 -->\n",
       "<g id=\"edge2\" class=\"edge\">\n",
       "<title>5486136528*&#45;&gt;5486136528</title>\n",
       "<path fill=\"none\" stroke=\"black\" d=\"M283.22,-73.5C290.88,-73.5 299.75,-73.5 309.2,-73.5\"/>\n",
       "<polygon fill=\"black\" stroke=\"black\" points=\"309.08,-77 319.08,-73.5 309.08,-70 309.08,-77\"/>\n",
       "</g>\n",
       "<!-- 5486571216 -->\n",
       "<g id=\"node5\" class=\"node\">\n",
       "<title>5486571216</title>\n",
       "<polygon fill=\"none\" stroke=\"black\" points=\"318.75,-0.5 318.75,-36.5 513,-36.5 513,-0.5 318.75,-0.5\"/>\n",
       "<text text-anchor=\"middle\" x=\"329.75\" y=\"-13.7\" font-family=\"Times,serif\" font-size=\"14.00\">c</text>\n",
       "<polyline fill=\"none\" stroke=\"black\" points=\"340.75,-1 340.75,-36.5\"/>\n",
       "<text text-anchor=\"middle\" x=\"384\" y=\"-13.7\" font-family=\"Times,serif\" font-size=\"14.00\">data 10.0000</text>\n",
       "<polyline fill=\"none\" stroke=\"black\" points=\"427.25,-1 427.25,-36.5\"/>\n",
       "<text text-anchor=\"middle\" x=\"470.12\" y=\"-13.7\" font-family=\"Times,serif\" font-size=\"14.00\">grad &#45;2.0000</text>\n",
       "</g>\n",
       "<!-- 5486571216&#45;&gt;5486571600+ -->\n",
       "<g id=\"edge7\" class=\"edge\">\n",
       "<title>5486571216&#45;&gt;5486571600+</title>\n",
       "<path fill=\"none\" stroke=\"black\" d=\"M512.96,-34.91C522.1,-36.47 530.93,-37.97 538.91,-39.34\"/>\n",
       "<polygon fill=\"black\" stroke=\"black\" points=\"538.14,-42.93 548.58,-41.16 539.32,-36.03 538.14,-42.93\"/>\n",
       "</g>\n",
       "<!-- 5486571728 -->\n",
       "<g id=\"node6\" class=\"node\">\n",
       "<title>5486571728</title>\n",
       "<polygon fill=\"none\" stroke=\"black\" points=\"640.12,-82.5 640.12,-118.5 826.12,-118.5 826.12,-82.5 640.12,-82.5\"/>\n",
       "<text text-anchor=\"middle\" x=\"650.38\" y=\"-95.7\" font-family=\"Times,serif\" font-size=\"14.00\">f</text>\n",
       "<polyline fill=\"none\" stroke=\"black\" points=\"660.62,-83 660.62,-118.5\"/>\n",
       "<text text-anchor=\"middle\" x=\"702.75\" y=\"-95.7\" font-family=\"Times,serif\" font-size=\"14.00\">data &#45;2.0000</text>\n",
       "<polyline fill=\"none\" stroke=\"black\" points=\"744.88,-83 744.88,-118.5\"/>\n",
       "<text text-anchor=\"middle\" x=\"785.5\" y=\"-95.7\" font-family=\"Times,serif\" font-size=\"14.00\">grad 4.0000</text>\n",
       "</g>\n",
       "<!-- 5486571728&#45;&gt;5485104336* -->\n",
       "<g id=\"edge5\" class=\"edge\">\n",
       "<title>5486571728&#45;&gt;5485104336*</title>\n",
       "<path fill=\"none\" stroke=\"black\" d=\"M825.71,-83.97C835.27,-82.24 844.53,-80.57 852.9,-79.06\"/>\n",
       "<polygon fill=\"black\" stroke=\"black\" points=\"853.47,-82.33 862.69,-77.11 852.23,-75.45 853.47,-82.33\"/>\n",
       "</g>\n",
       "<!-- 5485104336 -->\n",
       "<g id=\"node7\" class=\"node\">\n",
       "<title>5485104336</title>\n",
       "<polygon fill=\"none\" stroke=\"black\" points=\"953.25,-54.5 953.25,-90.5 1143,-90.5 1143,-54.5 953.25,-54.5\"/>\n",
       "<text text-anchor=\"middle\" x=\"965.38\" y=\"-67.7\" font-family=\"Times,serif\" font-size=\"14.00\">L</text>\n",
       "<polyline fill=\"none\" stroke=\"black\" points=\"977.5,-55 977.5,-90.5\"/>\n",
       "<text text-anchor=\"middle\" x=\"1019.62\" y=\"-67.7\" font-family=\"Times,serif\" font-size=\"14.00\">data &#45;8.0000</text>\n",
       "<polyline fill=\"none\" stroke=\"black\" points=\"1061.75,-55 1061.75,-90.5\"/>\n",
       "<text text-anchor=\"middle\" x=\"1102.38\" y=\"-67.7\" font-family=\"Times,serif\" font-size=\"14.00\">grad 1.0000</text>\n",
       "</g>\n",
       "<!-- 5485104336*&#45;&gt;5485104336 -->\n",
       "<g id=\"edge3\" class=\"edge\">\n",
       "<title>5485104336*&#45;&gt;5485104336</title>\n",
       "<path fill=\"none\" stroke=\"black\" d=\"M917.69,-72.5C925.06,-72.5 933.54,-72.5 942.56,-72.5\"/>\n",
       "<polygon fill=\"black\" stroke=\"black\" points=\"942.36,-76 952.36,-72.5 942.36,-69 942.36,-76\"/>\n",
       "</g>\n",
       "<!-- 5486570192 -->\n",
       "<g id=\"node9\" class=\"node\">\n",
       "<title>5486570192</title>\n",
       "<polygon fill=\"none\" stroke=\"black\" points=\"4.88,-83.5 4.88,-119.5 187.88,-119.5 187.88,-83.5 4.88,-83.5\"/>\n",
       "<text text-anchor=\"middle\" x=\"15.88\" y=\"-96.7\" font-family=\"Times,serif\" font-size=\"14.00\">a</text>\n",
       "<polyline fill=\"none\" stroke=\"black\" points=\"26.88,-84 26.88,-119.5\"/>\n",
       "<text text-anchor=\"middle\" x=\"66.75\" y=\"-96.7\" font-family=\"Times,serif\" font-size=\"14.00\">data 2.0000</text>\n",
       "<polyline fill=\"none\" stroke=\"black\" points=\"106.62,-84 106.62,-119.5\"/>\n",
       "<text text-anchor=\"middle\" x=\"147.25\" y=\"-96.7\" font-family=\"Times,serif\" font-size=\"14.00\">grad 6.0000</text>\n",
       "</g>\n",
       "<!-- 5486570192&#45;&gt;5486136528* -->\n",
       "<g id=\"edge6\" class=\"edge\">\n",
       "<title>5486570192&#45;&gt;5486136528*</title>\n",
       "<path fill=\"none\" stroke=\"black\" d=\"M187.55,-85.46C198.51,-83.51 209.17,-81.61 218.64,-79.92\"/>\n",
       "<polygon fill=\"black\" stroke=\"black\" points=\"218.94,-83.25 228.17,-78.05 217.71,-76.36 218.94,-83.25\"/>\n",
       "</g>\n",
       "<!-- 5484596624 -->\n",
       "<g id=\"node10\" class=\"node\">\n",
       "<title>5484596624</title>\n",
       "<polygon fill=\"none\" stroke=\"black\" points=\"0,-28.5 0,-64.5 192.75,-64.5 192.75,-28.5 0,-28.5\"/>\n",
       "<text text-anchor=\"middle\" x=\"11.38\" y=\"-41.7\" font-family=\"Times,serif\" font-size=\"14.00\">b</text>\n",
       "<polyline fill=\"none\" stroke=\"black\" points=\"22.75,-29 22.75,-64.5\"/>\n",
       "<text text-anchor=\"middle\" x=\"64.88\" y=\"-41.7\" font-family=\"Times,serif\" font-size=\"14.00\">data &#45;3.0000</text>\n",
       "<polyline fill=\"none\" stroke=\"black\" points=\"107,-29 107,-64.5\"/>\n",
       "<text text-anchor=\"middle\" x=\"149.88\" y=\"-41.7\" font-family=\"Times,serif\" font-size=\"14.00\">grad &#45;4.0000</text>\n",
       "</g>\n",
       "<!-- 5484596624&#45;&gt;5486136528* -->\n",
       "<g id=\"edge4\" class=\"edge\">\n",
       "<title>5484596624&#45;&gt;5486136528*</title>\n",
       "<path fill=\"none\" stroke=\"black\" d=\"M192.55,-62.83C201.7,-64.4 210.54,-65.92 218.55,-67.29\"/>\n",
       "<polygon fill=\"black\" stroke=\"black\" points=\"217.8,-70.88 228.25,-69.12 218.98,-63.98 217.8,-70.88\"/>\n",
       "</g>\n",
       "</g>\n",
       "</svg>\n"
      ],
      "text/plain": [
       "<graphviz.graphs.Digraph at 0x1470540d0>"
      ]
     },
     "execution_count": 25,
     "metadata": {},
     "output_type": "execute_result"
    }
   ],
   "source": [
    "draw_dot(L)"
   ]
  },
  {
   "cell_type": "markdown",
   "metadata": {},
   "source": [
    "### Calculation of dL/dd \n",
    "\n",
    "L = d * f\n",
    "\n",
    "dL/dd = ? // f\n",
    "\n",
    "(f(x+h)-f(x))/h\n",
    "\n",
    "((d+h)*f - d*f)/h\n",
    "\n",
    "(d*f + h*f - d*f)/h\n",
    "\n",
    "(h*f)/h\n",
    "\n",
    "f"
   ]
  },
  {
   "cell_type": "markdown",
   "metadata": {},
   "source": [
    "### Calculation of dL/dc\n",
    "d = c + e\n",
    "\n",
    "dd/dc = dc/dc + de/dc\n",
    "\n",
    "dd/dc = 1 + 0\n",
    "\n",
    "dd/dc = 1\n",
    "\n",
    "L = d * f\n",
    "\n",
    "dL/dd = f\n",
    "\n",
    "dL/dc * dc/dd = f\n",
    "\n",
    "dL/dc * 1 = f\n",
    "\n",
    "dL/dc = f"
   ]
  },
  {
   "cell_type": "markdown",
   "metadata": {},
   "source": [
    "### Calculation of dL/da\n",
    "\n",
    "e = a * b\n",
    "\n",
    "de/da = b\n",
    "\n",
    "d = c + e\n",
    "\n",
    "dd/de = 1\n",
    "\n",
    "L = d * f\n",
    "\n",
    "dL/dd = f\n",
    "\n",
    "dL/de * de/dd = f\n",
    "\n",
    "dL/de * 1 = f\n",
    "\n",
    "dL/de = f\n",
    "\n",
    "dL/da * da/de = f\n",
    "\n",
    "dL/da * 1/b = f\n",
    "\n",
    "dL/da = f * b\n",
    "\n",
    "dL/da = -2 * -3 = 6"
   ]
  },
  {
   "cell_type": "markdown",
   "metadata": {},
   "source": [
    "### Calculation of dL/db\n",
    "\n",
    "e = a * b\n",
    "\n",
    "de/db = a\n",
    "\n",
    "dL/de = f\n",
    "\n",
    "dL/db * db/de = f\n",
    "\n",
    "dL/db = f * a\n",
    "\n",
    "dL/db = -2 * 2 = -4"
   ]
  },
  {
   "cell_type": "code",
   "execution_count": null,
   "metadata": {},
   "outputs": [],
   "source": []
  },
  {
   "cell_type": "code",
   "execution_count": null,
   "metadata": {},
   "outputs": [],
   "source": []
  }
 ],
 "metadata": {
  "kernelspec": {
   "display_name": "base",
   "language": "python",
   "name": "python3"
  },
  "language_info": {
   "codemirror_mode": {
    "name": "ipython",
    "version": 3
   },
   "file_extension": ".py",
   "mimetype": "text/x-python",
   "name": "python",
   "nbconvert_exporter": "python",
   "pygments_lexer": "ipython3",
   "version": "3.11.3"
  },
  "orig_nbformat": 4
 },
 "nbformat": 4,
 "nbformat_minor": 2
}
